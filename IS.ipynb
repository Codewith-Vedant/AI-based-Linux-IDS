{
 "cells": [
  {
   "cell_type": "markdown",
   "id": "4330b20a-938f-470b-9ce8-0eea95deb3fd",
   "metadata": {},
   "source": [
    "# Import Libraries"
   ]
  },
  {
   "cell_type": "code",
   "execution_count": 16,
   "id": "4939a955-1398-457e-9a0c-904a832817bf",
   "metadata": {},
   "outputs": [
    {
     "name": "stdout",
     "output_type": "stream",
     "text": [
      "Collecting pandas\n",
      "  Downloading pandas-2.2.3-cp39-cp39-win_amd64.whl.metadata (19 kB)\n",
      "Requirement already satisfied: numpy>=1.22.4 in c:\\users\\vspil\\anaconda3\\envs\\adfa_env\\lib\\site-packages (from pandas) (2.0.2)\n",
      "Requirement already satisfied: python-dateutil>=2.8.2 in c:\\users\\vspil\\anaconda3\\envs\\adfa_env\\lib\\site-packages (from pandas) (2.9.0.post0)\n",
      "Collecting pytz>=2020.1 (from pandas)\n",
      "  Downloading pytz-2025.1-py2.py3-none-any.whl.metadata (22 kB)\n",
      "Collecting tzdata>=2022.7 (from pandas)\n",
      "  Downloading tzdata-2025.1-py2.py3-none-any.whl.metadata (1.4 kB)\n",
      "Requirement already satisfied: six>=1.5 in c:\\users\\vspil\\anaconda3\\envs\\adfa_env\\lib\\site-packages (from python-dateutil>=2.8.2->pandas) (1.16.0)\n",
      "Downloading pandas-2.2.3-cp39-cp39-win_amd64.whl (11.6 MB)\n",
      "   ---------------------------------------- 0.0/11.6 MB ? eta -:--:--\n",
      "   ----- ---------------------------------- 1.6/11.6 MB 8.3 MB/s eta 0:00:02\n",
      "   ------------- -------------------------- 3.9/11.6 MB 10.2 MB/s eta 0:00:01\n",
      "   --------------------- ------------------ 6.3/11.6 MB 10.4 MB/s eta 0:00:01\n",
      "   ----------------------------- ---------- 8.7/11.6 MB 10.7 MB/s eta 0:00:01\n",
      "   ------------------------------------- -- 10.7/11.6 MB 10.5 MB/s eta 0:00:01\n",
      "   ---------------------------------------  11.5/11.6 MB 10.3 MB/s eta 0:00:01\n",
      "   ---------------------------------------  11.5/11.6 MB 10.3 MB/s eta 0:00:01\n",
      "   ---------------------------------------  11.5/11.6 MB 10.3 MB/s eta 0:00:01\n",
      "   ---------------------------------------- 11.6/11.6 MB 6.3 MB/s eta 0:00:00\n",
      "Downloading pytz-2025.1-py2.py3-none-any.whl (507 kB)\n",
      "Downloading tzdata-2025.1-py2.py3-none-any.whl (346 kB)\n",
      "Installing collected packages: pytz, tzdata, pandas\n",
      "Successfully installed pandas-2.2.3 pytz-2025.1 tzdata-2025.1\n"
     ]
    }
   ],
   "source": [
    "!pip install pandas"
   ]
  },
  {
   "cell_type": "code",
   "execution_count": 1,
   "id": "94c680ce-6802-467e-8f93-e55f487e52c6",
   "metadata": {},
   "outputs": [],
   "source": [
    "import os\n",
    "import numpy as np\n",
    "import torch\n",
    "import torch.nn as nn\n",
    "from torch.utils.data import Dataset, DataLoader\n",
    "from sklearn.model_selection import train_test_split\n",
    "from sklearn.metrics import classification_report, roc_auc_score, precision_recall_curve, confusion_matrix, accuracy_score, f1_score, roc_curve\n",
    "import matplotlib.pyplot as plt\n",
    "import pandas as pd"
   ]
  },
  {
   "cell_type": "markdown",
   "id": "e4c6d0c6-e75c-4732-b2e3-ea50679da0b4",
   "metadata": {},
   "source": [
    "# Configuration"
   ]
  },
  {
   "cell_type": "code",
   "execution_count": 2,
   "id": "e3b08c6e-2171-4f51-8576-895a64cf04aa",
   "metadata": {},
   "outputs": [],
   "source": [
    "SEQ_LEN = 200 \n",
    "EMBED_DIM = 64\n",
    "BATCH_SIZE = 32\n",
    "EPOCHS = 10\n",
    "LEARNING_RATE = 0.001"
   ]
  },
  {
   "cell_type": "markdown",
   "id": "78611e24-8aa5-4076-943e-645bf6fd3954",
   "metadata": {},
   "source": [
    "# Load ADFA-LD Dataset"
   ]
  },
  {
   "cell_type": "code",
   "execution_count": 3,
   "id": "4adc6594-84f5-44af-a1f1-9b60d9908652",
   "metadata": {},
   "outputs": [],
   "source": [
    "def load_syscall_sequences(folder):\n",
    "    sequences = []\n",
    "    for file in os.listdir(folder):\n",
    "        path = os.path.join(folder, file)\n",
    "        with open(path, 'r') as f:\n",
    "            content = f.read().strip().split()\n",
    "            seq = [int(s) for s in content]\n",
    "            sequences.append(seq)\n",
    "    return sequences"
   ]
  },
  {
   "cell_type": "markdown",
   "id": "20f6db00-d05c-4722-b02c-3184b908ac6c",
   "metadata": {},
   "source": [
    "# Preprocessing"
   ]
  },
  {
   "cell_type": "code",
   "execution_count": 4,
   "id": "b4116709-aa53-4ba3-b5d0-6f42713e447f",
   "metadata": {},
   "outputs": [],
   "source": [
    "def pad_sequences(sequences, maxlen, pad_value=0):\n",
    "    padded = []\n",
    "    for seq in sequences:\n",
    "        if len(seq) < maxlen:\n",
    "            seq = seq + [pad_value] * (maxlen - len(seq))\n",
    "        else:\n",
    "            seq = seq[:maxlen]\n",
    "        padded.append(seq)\n",
    "    return np.array(padded)"
   ]
  },
  {
   "cell_type": "markdown",
   "id": "0b860d8c-b341-496b-9234-a6087a4f4129",
   "metadata": {},
   "source": [
    "# Custom Dataset"
   ]
  },
  {
   "cell_type": "code",
   "execution_count": 5,
   "id": "3eb1408c-06a6-473d-a2e0-ff578f72e038",
   "metadata": {},
   "outputs": [],
   "source": [
    "class SyscallDataset(Dataset):\n",
    "    def __init__(self, sequences):\n",
    "        self.sequences = torch.LongTensor(sequences)\n",
    "\n",
    "    def __len__(self):\n",
    "        return len(self.sequences)\n",
    "\n",
    "    def __getitem__(self, idx):\n",
    "        x = self.sequences[idx]\n",
    "        return x, x"
   ]
  },
  {
   "cell_type": "markdown",
   "id": "bf5f2386-bc1b-45b0-ad9b-f85cbb6e134b",
   "metadata": {},
   "source": [
    "# Transformer Autoencoder code"
   ]
  },
  {
   "cell_type": "code",
   "execution_count": 6,
   "id": "ab4be4fc-6811-474e-8b21-0ab7dc901cca",
   "metadata": {},
   "outputs": [],
   "source": [
    "class TransformerAutoencoder(nn.Module):\n",
    "    def __init__(self, vocab_size, embed_dim, seq_len):\n",
    "        super().__init__()\n",
    "        self.embedding = nn.Embedding(vocab_size, embed_dim, padding_idx=0)\n",
    "        self.positional_encoding = nn.Parameter(torch.randn(seq_len, embed_dim))\n",
    "\n",
    "        encoder_layer = nn.TransformerEncoderLayer(d_model=embed_dim, nhead=4)\n",
    "        self.encoder = nn.TransformerEncoder(encoder_layer, num_layers=2)\n",
    "\n",
    "        self.decoder = nn.Sequential(\n",
    "            nn.Linear(embed_dim, embed_dim),\n",
    "            nn.ReLU(),\n",
    "            nn.Linear(embed_dim, vocab_size)\n",
    "        )\n",
    "\n",
    "    def forward(self, x):\n",
    "        x_embed = self.embedding(x) + self.positional_encoding.unsqueeze(0)\n",
    "        encoded = self.encoder(x_embed)\n",
    "        decoded = self.decoder(encoded)\n",
    "        return decoded"
   ]
  },
  {
   "cell_type": "markdown",
   "id": "758626f3-4d3e-4bf3-87a1-363baffc3966",
   "metadata": {},
   "source": [
    "# Training Code"
   ]
  },
  {
   "cell_type": "code",
   "execution_count": 7,
   "id": "4588602c-f723-4f27-b13d-be5520b189fa",
   "metadata": {},
   "outputs": [],
   "source": [
    "def train_model(model, dataloader, optimizer, criterion):\n",
    "    model.train()\n",
    "    for epoch in range(EPOCHS):\n",
    "        total_loss = 0\n",
    "        for x, target in dataloader:\n",
    "            x, target = x.to(device), target.to(device)\n",
    "            optimizer.zero_grad()\n",
    "            output = model(x)\n",
    "            loss = criterion(output.view(-1, vocab_size), target.view(-1))\n",
    "            loss.backward()\n",
    "            optimizer.step()\n",
    "            total_loss += loss.item()\n",
    "        print(f\"Epoch {epoch+1}/{EPOCHS} - Loss: {total_loss:.4f}\")"
   ]
  },
  {
   "cell_type": "markdown",
   "id": "62d21ee6-6159-451c-930c-9777ff2cdf6a",
   "metadata": {},
   "source": [
    "# Inference and Anamoly Detection"
   ]
  },
  {
   "cell_type": "code",
   "execution_count": 8,
   "id": "446466d4-4953-412c-8405-9b90d06842ba",
   "metadata": {},
   "outputs": [],
   "source": [
    "def calculate_reconstruction_error(model, data_tensor):\n",
    "    model.eval()\n",
    "    with torch.no_grad():\n",
    "        input_data = data_tensor.to(device)\n",
    "        output = model(input_data)\n",
    "        loss_fn = nn.CrossEntropyLoss(reduction='none')\n",
    "        loss = loss_fn(output.view(-1, vocab_size), input_data.view(-1))\n",
    "        seq_loss = loss.view(input_data.size(0), -1).mean(dim=1)\n",
    "    return seq_loss.cpu().numpy()"
   ]
  },
  {
   "cell_type": "markdown",
   "id": "0b57ae47-7b74-4c8a-a0eb-1fc8f791656b",
   "metadata": {},
   "source": [
    "# Plot Graphs"
   ]
  },
  {
   "cell_type": "code",
   "execution_count": 9,
   "id": "d3610a46-ff29-49e4-9bf3-c3d5ae413550",
   "metadata": {},
   "outputs": [],
   "source": [
    "def plot_precision_recall_curve(val_errors, attack_errors):\n",
    "    y_true = [0]*len(val_errors) + [1]*len(attack_errors)\n",
    "    y_scores = np.concatenate([val_errors, attack_errors])\n",
    "    precision, recall, _ = precision_recall_curve(y_true, y_scores)\n",
    "    plt.plot(recall, precision)\n",
    "    plt.xlabel('Recall')\n",
    "    plt.ylabel('Precision')\n",
    "    plt.title('Precision-Recall Curve')\n",
    "    plt.grid(True)\n",
    "    plt.show()\n",
    "\n",
    "def plot_roc_curve(val_errors, attack_errors):\n",
    "    y_true = [0]*len(val_errors) + [1]*len(attack_errors)\n",
    "    y_scores = np.concatenate([val_errors, attack_errors])\n",
    "    fpr, tpr, _ = roc_curve(y_true, y_scores)\n",
    "    auc = roc_auc_score(y_true, y_scores)\n",
    "    plt.plot(fpr, tpr, label=f'AUC = {auc:.2f}')\n",
    "    plt.xlabel('False Positive Rate')\n",
    "    plt.ylabel('True Positive Rate')\n",
    "    plt.title('ROC Curve')\n",
    "    plt.legend()\n",
    "    plt.grid(True)\n",
    "    plt.show()\n"
   ]
  },
  {
   "cell_type": "markdown",
   "id": "9642197e-0230-48f2-ba84-f3f4af9929a1",
   "metadata": {},
   "source": [
    "# CSV results"
   ]
  },
  {
   "cell_type": "code",
   "execution_count": 10,
   "id": "3834245c-72a3-4b80-a2f2-2ab3ad1ca7da",
   "metadata": {},
   "outputs": [],
   "source": [
    "def export_results(y_true, y_pred, val_errors, attack_errors, filename=\"results.csv\"):\n",
    "    y_scores = np.concatenate([val_errors, attack_errors])\n",
    "    labels = [\"Normal\"]*len(val_errors) + [\"Attack\"]*len(attack_errors)\n",
    "    df = pd.DataFrame({\n",
    "        'True_Label': y_true,\n",
    "        'Predicted_Label': y_pred,\n",
    "        'Error_Score': y_scores,\n",
    "        'Class': labels\n",
    "    })\n",
    "    df.to_csv(filename, index=False)\n",
    "    print(f\"Exported results to {filename}\")"
   ]
  },
  {
   "cell_type": "markdown",
   "id": "ce629f41-9d9c-4711-a1f9-795e13753d89",
   "metadata": {},
   "source": [
    "# Classification Metrics"
   ]
  },
  {
   "cell_type": "code",
   "execution_count": 11,
   "id": "b117b944-da48-4318-b75d-87de4428d0f9",
   "metadata": {},
   "outputs": [],
   "source": [
    "def evaluate_threshold_metrics(val_errors, attack_errors, threshold):\n",
    "    y_true = [0]*len(val_errors) + [1]*len(attack_errors)\n",
    "    y_pred = [1 if score >= threshold else 0 for score in np.concatenate([val_errors, attack_errors])]\n",
    "    acc = accuracy_score(y_true, y_pred)\n",
    "    f1 = f1_score(y_true, y_pred)\n",
    "    cm = confusion_matrix(y_true, y_pred)\n",
    "    print(\"\\nConfusion Matrix:\\n\", cm)\n",
    "    print(\"Accuracy:\", acc)\n",
    "    print(\"F1-Score:\", f1)\n",
    "    return y_true, y_pred"
   ]
  },
  {
   "cell_type": "markdown",
   "id": "350a7571-f511-4ac8-b13d-ffa4850db66e",
   "metadata": {},
   "source": [
    "# Time to run main function"
   ]
  },
  {
   "cell_type": "code",
   "execution_count": 14,
   "id": "7b529fd1-3e13-478c-9c25-9360a2e08d02",
   "metadata": {},
   "outputs": [
    {
     "name": "stderr",
     "output_type": "stream",
     "text": [
      "C:\\Users\\vspil\\anaconda3\\envs\\adfa_env\\lib\\site-packages\\torch\\nn\\modules\\transformer.py:385: UserWarning: enable_nested_tensor is True, but self.use_nested_tensor is False because encoder_layer.self_attn.batch_first was not True(use batch_first for better inference performance)\n",
      "  warnings.warn(\n"
     ]
    },
    {
     "name": "stdout",
     "output_type": "stream",
     "text": [
      "Epoch 1/10 - Loss: 106.1661\n",
      "Epoch 2/10 - Loss: 37.4259\n",
      "Epoch 3/10 - Loss: 15.1017\n",
      "Epoch 4/10 - Loss: 9.5839\n",
      "Epoch 5/10 - Loss: 6.2962\n",
      "Epoch 6/10 - Loss: 4.7261\n",
      "Epoch 7/10 - Loss: 3.8047\n",
      "Epoch 8/10 - Loss: 2.4817\n",
      "Epoch 9/10 - Loss: 1.6946\n",
      "Epoch 10/10 - Loss: 1.2883\n",
      "\n",
      "Mean Reconstruction Error (Normal Validation): 0.06773324\n",
      "Mean Reconstruction Error (Attacks): 0.51331246\n"
     ]
    },
    {
     "data": {
      "image/png": "[encoded data removed]",
      "text/plain": [
       "<Figure size 800x600 with 1 Axes>"
      ]
     },
     "metadata": {},
     "output_type": "display_data"
    },
    {
     "name": "stdout",
     "output_type": "stream",
     "text": [
      "\n",
      "Confusion Matrix:\n",
      " [[4170  202]\n",
      " [   4    4]]\n",
      "Accuracy: 0.9529680365296803\n",
      "F1-Score: 0.037383177570093455\n"
     ]
    }
   ],
   "source": [
    "if __name__ == '__main__':\n",
    "    train_folder = \"ADFA-LD/ADFA-LD/Training_Data_Master\"\n",
    "    val_folder = \"ADFA-LD/ADFA-LD/Validation_Data_Master\"\n",
    "    attack_folder = \"ADFA-LD/ADFA-LD/Attack_Data_Master/Adduser_2\"  # sample attack class\n",
    "\n",
    "    train_seqs = load_syscall_sequences(train_folder)\n",
    "    val_seqs = load_syscall_sequences(val_folder)\n",
    "    attack_seqs = load_syscall_sequences(attack_folder)\n",
    "\n",
    "    all_seqs = train_seqs + val_seqs + attack_seqs\n",
    "    max_syscall = max(max(seq) for seq in all_seqs)\n",
    "    vocab_size = max_syscall + 1\n",
    "\n",
    "    train_data = pad_sequences(train_seqs, SEQ_LEN)\n",
    "    val_data = pad_sequences(val_seqs, SEQ_LEN)\n",
    "    attack_data = pad_sequences(attack_seqs, SEQ_LEN)\n",
    "\n",
    "    train_dataset = SyscallDataset(train_data)\n",
    "    train_loader = DataLoader(train_dataset, batch_size=BATCH_SIZE, shuffle=True)\n",
    "\n",
    "    device = torch.device(\"cuda\" if torch.cuda.is_available() else \"cpu\")\n",
    "    model = TransformerAutoencoder(vocab_size, EMBED_DIM, SEQ_LEN).to(device)\n",
    "    optimizer = torch.optim.Adam(model.parameters(), lr=LEARNING_RATE)\n",
    "    criterion = nn.CrossEntropyLoss()\n",
    "\n",
    "    train_model(model, train_loader, optimizer, criterion)\n",
    "\n",
    "    val_tensor = torch.LongTensor(val_data)\n",
    "    attack_tensor = torch.LongTensor(attack_data)\n",
    "\n",
    "    val_errors = calculate_reconstruction_error(model, val_tensor)\n",
    "    attack_errors = calculate_reconstruction_error(model, attack_tensor)\n",
    "\n",
    "    print(\"\\nMean Reconstruction Error (Normal Validation):\", np.mean(val_errors))\n",
    "    print(\"Mean Reconstruction Error (Attacks):\", np.mean(attack_errors))\n",
    "\n",
    "    # Evaluation Plot\n",
    "    plot_precision_recall_curve(val_errors, attack_errors)\n",
    "\n",
    "    threshold = (np.mean(val_errors) + np.mean(attack_errors)) / 2\n",
    "    evaluate_threshold_metrics(val_errors, attack_errors, threshold)\n"
   ]
  },
  {
   "cell_type": "markdown",
   "id": "736fba6a-0fbd-40a9-8d37-a137a83ca39c",
   "metadata": {},
   "source": [
    "# Plot all"
   ]
  },
  {
   "cell_type": "code",
   "execution_count": 30,
   "id": "59bc590d-054e-40c6-b5e1-0b7c9cad66f1",
   "metadata": {},
   "outputs": [
    {
     "data": {
      "image/png": "[encoded data removed]",
      "text/plain": [
       "<Figure size 640x480 with 1 Axes>"
      ]
     },
     "metadata": {},
     "output_type": "display_data"
    },
    {
     "data": {
      "image/png": "[encoded data removed]",
      "text/plain": [
       "<Figure size 640x480 with 1 Axes>"
      ]
     },
     "metadata": {},
     "output_type": "display_data"
    }
   ],
   "source": [
    "\n",
    "plot_precision_recall_curve(val_errors, attack_errors)\n",
    "plot_roc_curve(val_errors, attack_errors)\n"
   ]
  },
  {
   "cell_type": "code",
   "execution_count": 33,
   "id": "38e64372-b0b8-4062-9113-ee9e9410e34a",
   "metadata": {},
   "outputs": [
    {
     "name": "stdout",
     "output_type": "stream",
     "text": [
      "\n",
      "Confusion Matrix:\n",
      " [[4170  202]\n",
      " [   4    4]]\n",
      "Accuracy: 0.9529680365296803\n",
      "F1-Score: 0.037383177570093455\n"
     ]
    }
   ],
   "source": [
    "y_true, y_pred = evaluate_threshold_metrics(val_errors, attack_errors, threshold)"
   ]
  },
  {
   "cell_type": "code",
   "execution_count": 34,
   "id": "abb2f7f5-a338-467a-9ddd-17338254d9c3",
   "metadata": {},
   "outputs": [
    {
     "name": "stdout",
     "output_type": "stream",
     "text": [
      "Exported results to results.csv\n"
     ]
    }
   ],
   "source": [
    " export_results(y_true, y_pred, val_errors, attack_errors)"
   ]
  },
  {
   "cell_type": "markdown",
   "id": "b7c66b0e-3909-4a1f-a053-561974479b1a",
   "metadata": {},
   "source": [
    "# save model"
   ]
  },
  {
   "cell_type": "code",
   "execution_count": 35,
   "id": "bf3599f5-6801-499a-a203-5a7a69bb1038",
   "metadata": {},
   "outputs": [],
   "source": [
    "def save_model(model, path=\"transformer_autoencoder_model.pth\"):\n",
    "    torch.save(model.state_dict(), path)\n",
    "    print(f\"✅ Model saved to {path}\")"
   ]
  },
  {
   "cell_type": "code",
   "execution_count": 36,
   "id": "ba9c8942-4683-4646-8d15-f290fbc1543f",
   "metadata": {},
   "outputs": [
    {
     "name": "stdout",
     "output_type": "stream",
     "text": [
      "✅ Model saved to model.pth\n"
     ]
    }
   ],
   "source": [
    "save_model(model, \"model.pth\")"
   ]
  },
  {
   "cell_type": "markdown",
   "id": "4cce4e81-2c4b-49e9-8be8-69299c5b9213",
   "metadata": {},
   "source": [
    "# Load Model"
   ]
  },
  {
   "cell_type": "code",
   "execution_count": 37,
   "id": "531ad508-8d89-48dc-ab93-98c1b9ad2380",
   "metadata": {},
   "outputs": [],
   "source": [
    "def load_model(path, vocab_size, embed_dim, seq_len, device):\n",
    "    model = TransformerAutoencoder(vocab_size, embed_dim, seq_len)\n",
    "    model.load_state_dict(torch.load(path, map_location=device))\n",
    "    model.to(device)\n",
    "    model.eval()\n",
    "    print(f\"✅ Model loaded from {path}\")\n",
    "    return model"
   ]
  },
  {
   "cell_type": "code",
   "execution_count": 38,
   "id": "4a7e436c-a41b-4ae4-98ad-061fe2b87020",
   "metadata": {},
   "outputs": [
    {
     "name": "stdout",
     "output_type": "stream",
     "text": [
      "✅ Model loaded from model.pth\n"
     ]
    },
    {
     "name": "stderr",
     "output_type": "stream",
     "text": [
      "C:\\Users\\vspil\\anaconda3\\envs\\adfa_env\\lib\\site-packages\\torch\\nn\\modules\\transformer.py:385: UserWarning: enable_nested_tensor is True, but self.use_nested_tensor is False because encoder_layer.self_attn.batch_first was not True(use batch_first for better inference performance)\n",
      "  warnings.warn(\n"
     ]
    }
   ],
   "source": [
    "model_loaded = load_model(\"model.pth\", vocab_size, EMBED_DIM, SEQ_LEN, device)\n"
   ]
  },
  {
   "cell_type": "markdown",
   "id": "23113334-13d2-49f7-9b5d-d42dda080721",
   "metadata": {},
   "source": [
    "# Test model"
   ]
  },
  {
   "cell_type": "code",
   "execution_count": 40,
   "id": "2216bd13-4c75-445a-b102-9d9a88d57e02",
   "metadata": {},
   "outputs": [
    {
     "name": "stdout",
     "output_type": "stream",
     "text": [
      "\n",
      "Testing loaded model on new input sequence:\n",
      "Reconstruction Error: 1.1701\n",
      "❌ Anomalous Sequence Detected\n"
     ]
    }
   ],
   "source": [
    "def test_single_sequence(model, sequence, threshold):\n",
    "    model.eval()\n",
    "    sequence = pad_sequences([sequence], SEQ_LEN)\n",
    "    sequence_tensor = torch.LongTensor(sequence).to(device)\n",
    "    error = calculate_reconstruction_error(model, sequence_tensor)[0]\n",
    "    print(f\"Reconstruction Error: {error:.4f}\")\n",
    "    if error >= threshold:\n",
    "        print(\"❌ Anomalous Sequence Detected\")\n",
    "    else:\n",
    "        print(\"✅ Normal Sequence\")\n",
    "\n",
    "test_sequence = attack_seqs[1]  # or val_seqs[1] for normal\n",
    "print(\"\\nTesting loaded model on new input sequence:\")\n",
    "test_single_sequence(model_loaded, test_sequence, threshold)"
   ]
  },
  {
   "cell_type": "markdown",
   "id": "2cf8b0f9-50a4-4b99-bfff-8f17cc69f5ac",
   "metadata": {},
   "source": [
    "# Enhanced model"
   ]
  },
  {
   "cell_type": "code",
   "execution_count": 12,
   "id": "d31d38ac-753f-43ae-842c-5edaae4ac5e3",
   "metadata": {},
   "outputs": [],
   "source": [
    "class EnhancedTransformerAutoencoder(nn.Module):\n",
    "    def __init__(self, vocab_size, embed_dim, seq_len):\n",
    "        super().__init__()\n",
    "        self.embedding = nn.Embedding(vocab_size, embed_dim, padding_idx=0)\n",
    "        self.positional_encoding = nn.Parameter(torch.randn(seq_len, embed_dim))\n",
    "\n",
    "        encoder_layer = nn.TransformerEncoderLayer(d_model=embed_dim, nhead=8, dropout=0.2)\n",
    "        self.encoder = nn.TransformerEncoder(encoder_layer, num_layers=4)\n",
    "\n",
    "        self.decoder = nn.Sequential(\n",
    "            nn.Linear(embed_dim, embed_dim * 2),\n",
    "            nn.ReLU(),\n",
    "            nn.Dropout(0.2),\n",
    "            nn.Linear(embed_dim * 2, vocab_size)\n",
    "        )\n",
    "\n",
    "    def forward(self, x):\n",
    "        x_embed = self.embedding(x) + self.positional_encoding.unsqueeze(0)\n",
    "        encoded = self.encoder(x_embed)\n",
    "        decoded = self.decoder(encoded)\n",
    "        return decoded"
   ]
  },
  {
   "cell_type": "markdown",
   "id": "4475dc99-0795-4c40-933f-78555f2d6978",
   "metadata": {},
   "source": [
    "# Improved Training"
   ]
  },
  {
   "cell_type": "code",
   "execution_count": 13,
   "id": "d9d34169-4c12-499d-9d18-8d035d1aa33a",
   "metadata": {},
   "outputs": [],
   "source": [
    "def train_model_advanced(model, dataloader, optimizer, criterion, scheduler=None):\n",
    "    model.train()\n",
    "    for epoch in range(EPOCHS):\n",
    "        total_loss = 0\n",
    "        for x, target in dataloader:\n",
    "            x, target = x.to(device), target.to(device)\n",
    "            optimizer.zero_grad()\n",
    "            output = model(x)\n",
    "            loss = criterion(output.view(-1, vocab_size), target.view(-1))\n",
    "            loss.backward()\n",
    "            torch.nn.utils.clip_grad_norm_(model.parameters(), max_norm=1.0)\n",
    "            optimizer.step()\n",
    "        \n",
    "            total_loss += loss.item()\n",
    "        if scheduler:\n",
    "            scheduler.step()\n",
    "        print(f\"[Optimized] Epoch {epoch+1}/{EPOCHS} - Loss: {total_loss:.4f}\")"
   ]
  },
  {
   "cell_type": "markdown",
   "id": "bc51daac-6929-4e74-bf86-addf70d6d378",
   "metadata": {},
   "source": [
    "# Dynamic Threshold Calculation"
   ]
  },
  {
   "cell_type": "code",
   "execution_count": 14,
   "id": "59c4f603-d9d1-4df2-a06b-0a99ac2f2291",
   "metadata": {},
   "outputs": [],
   "source": [
    "def get_dynamic_threshold(errors, factor=2):\n",
    "    mean = np.mean(errors)\n",
    "    std = np.std(errors)\n",
    "    return mean + factor * std"
   ]
  },
  {
   "cell_type": "markdown",
   "id": "87cf5d99-6dbd-4444-a431-dc46c0aa7e75",
   "metadata": {},
   "source": [
    "# Model v2"
   ]
  },
  {
   "cell_type": "code",
   "execution_count": 17,
   "id": "e7802020-3e3a-4864-8f84-9794f606a651",
   "metadata": {},
   "outputs": [
    {
     "name": "stdout",
     "output_type": "stream",
     "text": [
      "\n",
      "📦 Loading Dataset\n",
      "\n",
      "📦 Dataset Loaded\n",
      "\n",
      "🔧 Training Upgraded EnhancedTransformerAutoencoder...\n"
     ]
    },
    {
     "name": "stderr",
     "output_type": "stream",
     "text": [
      "C:\\Users\\vspil\\anaconda3\\envs\\adfa_env\\lib\\site-packages\\torch\\nn\\modules\\transformer.py:385: UserWarning: enable_nested_tensor is True, but self.use_nested_tensor is False because encoder_layer.self_attn.batch_first was not True(use batch_first for better inference performance)\n",
      "  warnings.warn(\n"
     ]
    },
    {
     "name": "stdout",
     "output_type": "stream",
     "text": [
      "[Optimized] Epoch 1/10 - Loss: 111.2146\n",
      "[Optimized] Epoch 2/10 - Loss: 55.6845\n",
      "[Optimized] Epoch 3/10 - Loss: 36.3057\n",
      "[Optimized] Epoch 4/10 - Loss: 31.3688\n",
      "[Optimized] Epoch 5/10 - Loss: 29.4494\n",
      "[Optimized] Epoch 6/10 - Loss: 28.6062\n",
      "[Optimized] Epoch 7/10 - Loss: 27.8790\n",
      "[Optimized] Epoch 8/10 - Loss: 27.6296\n",
      "[Optimized] Epoch 9/10 - Loss: 27.7990\n",
      "[Optimized] Epoch 10/10 - Loss: 27.2744\n",
      "\n",
      "Confusion Matrix:\n",
      " [[4241  131]\n",
      " [   4    4]]\n",
      "Accuracy: 0.9691780821917808\n",
      "F1-Score: 0.055944055944055944\n"
     ]
    },
    {
     "data": {
      "image/png": "[encoded data removed]",
      "text/plain": [
       "<Figure size 640x480 with 1 Axes>"
      ]
     },
     "metadata": {},
     "output_type": "display_data"
    },
    {
     "data": {
      "image/png": "[encoded data removed]",
      "text/plain": [
       "<Figure size 640x480 with 1 Axes>"
      ]
     },
     "metadata": {},
     "output_type": "display_data"
    }
   ],
   "source": [
    "print(\"\\n📦 Loading Dataset\")\n",
    "train_folder = \"ADFA-LD/ADFA-LD/Training_Data_Master\"\n",
    "val_folder = \"ADFA-LD/ADFA-LD/Validation_Data_Master\"\n",
    "attack_folder = \"ADFA-LD/ADFA-LD/Attack_Data_Master/Adduser_2\"\n",
    "print(\"\\n📦 Dataset Loaded\")\n",
    "\n",
    "train_seqs = load_syscall_sequences(train_folder)\n",
    "val_seqs = load_syscall_sequences(val_folder)\n",
    "attack_seqs = load_syscall_sequences(attack_folder)\n",
    "\n",
    "all_seqs = train_seqs + val_seqs + attack_seqs\n",
    "vocab_size = max(max(seq) for seq in all_seqs) + 1\n",
    "\n",
    "train_data = pad_sequences(train_seqs, SEQ_LEN)\n",
    "val_data = pad_sequences(val_seqs, SEQ_LEN)\n",
    "attack_data = pad_sequences(attack_seqs, SEQ_LEN)\n",
    "\n",
    "train_dataset = SyscallDataset(train_data)\n",
    "train_loader = DataLoader(train_dataset, batch_size=BATCH_SIZE, shuffle=True)\n",
    "\n",
    "device = torch.device(\"cuda\" if torch.cuda.is_available() else \"cpu\")\n",
    "\n",
    "# Train enhanced model\n",
    "print(\"\\n🔧 Training Upgraded EnhancedTransformerAutoencoder...\")\n",
    "model_v2 = EnhancedTransformerAutoencoder(vocab_size, EMBED_DIM, SEQ_LEN).to(device)\n",
    "optimizer_v2 = torch.optim.Adam(model_v2.parameters(), lr=LEARNING_RATE)\n",
    "scheduler_v2 = torch.optim.lr_scheduler.StepLR(optimizer_v2, step_size=5, gamma=0.5)\n",
    "criterion_v2 = nn.CrossEntropyLoss(label_smoothing=0.1)\n",
    "\n",
    "train_model_advanced(model_v2, train_loader, optimizer_v2, criterion_v2, scheduler=scheduler_v2)\n",
    "\n",
    "# Evaluation\n",
    "val_tensor = torch.LongTensor(val_data)\n",
    "attack_tensor = torch.LongTensor(attack_data)\n",
    "val_errors_v2 = calculate_reconstruction_error(model_v2, val_tensor)\n",
    "attack_errors_v2 = calculate_reconstruction_error(model_v2, attack_tensor)\n",
    "\n",
    "threshold_v2 = get_dynamic_threshold(val_errors_v2, factor=2)\n",
    "y_true_v2, y_pred_v2 = evaluate_threshold_metrics(val_errors_v2, attack_errors_v2, threshold_v2)\n",
    "\n",
    "plot_precision_recall_curve(val_errors_v2, attack_errors_v2)\n",
    "plot_roc_curve(val_errors_v2, attack_errors_v2)\n",
    "\n",
    "# Optional: Save model\n",
    "torch.save(model_v2.state_dict(), \"enhanced_transformer_autoencoder.pth\")"
   ]
  },
  {
   "cell_type": "code",
   "execution_count": null,
   "id": "7fce6db1-b896-4372-87c9-3229bb5a4ab0",
   "metadata": {},
   "outputs": [],
   "source": []
  }
 ],
 "metadata": {
  "kernelspec": {
   "display_name": "Python 3 (ipykernel)",
   "language": "python",
   "name": "python3"
  },
  "language_info": {
   "codemirror_mode": {
    "name": "ipython",
    "version": 3
   },
   "file_extension": ".py",
   "mimetype": "text/x-python",
   "name": "python",
   "nbconvert_exporter": "python",
   "pygments_lexer": "ipython3",
   "version": "3.9.21"
  }
 },
 "nbformat": 4,
 "nbformat_minor": 5
}
